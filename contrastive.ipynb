{
 "cells": [
  {
   "cell_type": "code",
   "execution_count": 35,
   "metadata": {},
   "outputs": [],
   "source": [
    "import pandas as pd\n",
    "import numpy as np\n",
    "import random\n",
    "from tqdm import tqdm\n",
    "\n",
    "import torch\n",
    "# from torch.utils.data import Dataset, DataLoader\n",
    "from torch_geometric.data import Data, Dataset, DataLoader\n",
    "import torch.nn.functional as F\n",
    "\n",
    "import rdkit\n",
    "from rdkit import Chem\n",
    "from rdkit.Chem.rdchem import HybridizationType\n",
    "from rdkit.Chem.rdchem import BondType as BT\n",
    "from rdkit.Chem import AllChem"
   ]
  },
  {
   "cell_type": "code",
   "execution_count": 2,
   "metadata": {},
   "outputs": [
    {
     "ename": "FileNotFoundError",
     "evalue": "[Errno 2] No such file or directory: 'data/uspto50/uspto_50.pickle'",
     "output_type": "error",
     "traceback": [
      "\u001b[0;31m---------------------------------------------------------------------------\u001b[0m",
      "\u001b[0;31mFileNotFoundError\u001b[0m                         Traceback (most recent call last)",
      "Cell \u001b[0;32mIn[2], line 1\u001b[0m\n\u001b[0;32m----> 1\u001b[0m df \u001b[38;5;241m=\u001b[39m pd\u001b[38;5;241m.\u001b[39mread_pickle(\u001b[38;5;124m'\u001b[39m\u001b[38;5;124mdata/uspto50/uspto_50.pickle\u001b[39m\u001b[38;5;124m'\u001b[39m)\n\u001b[1;32m      2\u001b[0m df\n",
      "File \u001b[0;32m~/miniconda3/envs/retrosynthesis/lib/python3.11/site-packages/pandas/io/pickle.py:190\u001b[0m, in \u001b[0;36mread_pickle\u001b[0;34m(filepath_or_buffer, compression, storage_options)\u001b[0m\n\u001b[1;32m    124\u001b[0m \u001b[38;5;250m\u001b[39m\u001b[38;5;124;03m\"\"\"\u001b[39;00m\n\u001b[1;32m    125\u001b[0m \u001b[38;5;124;03mLoad pickled pandas object (or any object) from file.\u001b[39;00m\n\u001b[1;32m    126\u001b[0m \n\u001b[0;32m   (...)\u001b[0m\n\u001b[1;32m    187\u001b[0m \u001b[38;5;124;03m4    4    9\u001b[39;00m\n\u001b[1;32m    188\u001b[0m \u001b[38;5;124;03m\"\"\"\u001b[39;00m\n\u001b[1;32m    189\u001b[0m excs_to_catch \u001b[38;5;241m=\u001b[39m (\u001b[38;5;167;01mAttributeError\u001b[39;00m, \u001b[38;5;167;01mImportError\u001b[39;00m, \u001b[38;5;167;01mModuleNotFoundError\u001b[39;00m, \u001b[38;5;167;01mTypeError\u001b[39;00m)\n\u001b[0;32m--> 190\u001b[0m \u001b[38;5;28;01mwith\u001b[39;00m get_handle(\n\u001b[1;32m    191\u001b[0m     filepath_or_buffer,\n\u001b[1;32m    192\u001b[0m     \u001b[38;5;124m\"\u001b[39m\u001b[38;5;124mrb\u001b[39m\u001b[38;5;124m\"\u001b[39m,\n\u001b[1;32m    193\u001b[0m     compression\u001b[38;5;241m=\u001b[39mcompression,\n\u001b[1;32m    194\u001b[0m     is_text\u001b[38;5;241m=\u001b[39m\u001b[38;5;28;01mFalse\u001b[39;00m,\n\u001b[1;32m    195\u001b[0m     storage_options\u001b[38;5;241m=\u001b[39mstorage_options,\n\u001b[1;32m    196\u001b[0m ) \u001b[38;5;28;01mas\u001b[39;00m handles:\n\u001b[1;32m    197\u001b[0m \n\u001b[1;32m    198\u001b[0m     \u001b[38;5;66;03m# 1) try standard library Pickle\u001b[39;00m\n\u001b[1;32m    199\u001b[0m     \u001b[38;5;66;03m# 2) try pickle_compat (older pandas version) to handle subclass changes\u001b[39;00m\n\u001b[1;32m    200\u001b[0m     \u001b[38;5;66;03m# 3) try pickle_compat with latin-1 encoding upon a UnicodeDecodeError\u001b[39;00m\n\u001b[1;32m    202\u001b[0m     \u001b[38;5;28;01mtry\u001b[39;00m:\n\u001b[1;32m    203\u001b[0m         \u001b[38;5;66;03m# TypeError for Cython complaints about object.__new__ vs Tick.__new__\u001b[39;00m\n\u001b[1;32m    204\u001b[0m         \u001b[38;5;28;01mtry\u001b[39;00m:\n",
      "File \u001b[0;32m~/miniconda3/envs/retrosynthesis/lib/python3.11/site-packages/pandas/io/common.py:865\u001b[0m, in \u001b[0;36mget_handle\u001b[0;34m(path_or_buf, mode, encoding, compression, memory_map, is_text, errors, storage_options)\u001b[0m\n\u001b[1;32m    856\u001b[0m         handle \u001b[38;5;241m=\u001b[39m \u001b[38;5;28mopen\u001b[39m(\n\u001b[1;32m    857\u001b[0m             handle,\n\u001b[1;32m    858\u001b[0m             ioargs\u001b[38;5;241m.\u001b[39mmode,\n\u001b[0;32m   (...)\u001b[0m\n\u001b[1;32m    861\u001b[0m             newline\u001b[38;5;241m=\u001b[39m\u001b[38;5;124m\"\u001b[39m\u001b[38;5;124m\"\u001b[39m,\n\u001b[1;32m    862\u001b[0m         )\n\u001b[1;32m    863\u001b[0m     \u001b[38;5;28;01melse\u001b[39;00m:\n\u001b[1;32m    864\u001b[0m         \u001b[38;5;66;03m# Binary mode\u001b[39;00m\n\u001b[0;32m--> 865\u001b[0m         handle \u001b[38;5;241m=\u001b[39m \u001b[38;5;28mopen\u001b[39m(handle, ioargs\u001b[38;5;241m.\u001b[39mmode)\n\u001b[1;32m    866\u001b[0m     handles\u001b[38;5;241m.\u001b[39mappend(handle)\n\u001b[1;32m    868\u001b[0m \u001b[38;5;66;03m# Convert BytesIO or file objects passed with an encoding\u001b[39;00m\n",
      "\u001b[0;31mFileNotFoundError\u001b[0m: [Errno 2] No such file or directory: 'data/uspto50/uspto_50.pickle'"
     ]
    }
   ],
   "source": [
    "df = pd.read_pickle('data/uspto50/uspto_50.pickle')\n",
    "df"
   ]
  },
  {
   "cell_type": "code",
   "execution_count": null,
   "metadata": {},
   "outputs": [],
   "source": [
    "new_dataset = []\n",
    "\n",
    "count = 0\n",
    "for i, row in tqdm(df.iterrows(), total=len(df)):\n",
    "    reactants = Chem.MolToSmiles(row['reactants_mol']).split('.')\n",
    "    # product = Chem.MolToSmiles(row['products_mol'])\n",
    "    product = row['products_mol']\n",
    "    exclude_indices = list(range(count, count+len(reactants)))\n",
    "    for reactant in reactants:\n",
    "        reactant = Chem.MolFromSmiles(reactant)\n",
    "        new_dataset.append([reactant, product, row['reaction_type'], row['set'], exclude_indices])\n",
    "    count += len(reactants)\n",
    "\n",
    "new_dataset"
   ]
  },
  {
   "cell_type": "code",
   "execution_count": null,
   "metadata": {},
   "outputs": [],
   "source": [
    "# save new_dataset as a pandas dataframe\n",
    "retrieval_df = pd.DataFrame(new_dataset, columns=['reactants_mol', 'products_mol', 'reaction_type', 'set', 'exclude_indices'])\n",
    "retrieval_df.to_pickle('data/uspto50/uspto_50_retrieval.pickle')\n",
    "\n",
    "retrieval_df"
   ]
  },
  {
   "cell_type": "code",
   "execution_count": 4,
   "metadata": {},
   "outputs": [
    {
     "data": {
      "text/html": [
       "<div>\n",
       "<style scoped>\n",
       "    .dataframe tbody tr th:only-of-type {\n",
       "        vertical-align: middle;\n",
       "    }\n",
       "\n",
       "    .dataframe tbody tr th {\n",
       "        vertical-align: top;\n",
       "    }\n",
       "\n",
       "    .dataframe thead th {\n",
       "        text-align: right;\n",
       "    }\n",
       "</style>\n",
       "<table border=\"1\" class=\"dataframe\">\n",
       "  <thead>\n",
       "    <tr style=\"text-align: right;\">\n",
       "      <th></th>\n",
       "      <th>reactants_mol</th>\n",
       "      <th>products_mol</th>\n",
       "      <th>reaction_type</th>\n",
       "      <th>set</th>\n",
       "      <th>exclude_indices</th>\n",
       "    </tr>\n",
       "  </thead>\n",
       "  <tbody>\n",
       "    <tr>\n",
       "      <th>0</th>\n",
       "      <td>&lt;rdkit.Chem.rdchem.Mol object at 0x7ff8c8c5c680&gt;</td>\n",
       "      <td>&lt;rdkit.Chem.rdchem.Mol object at 0x7ff8c57ebfb0&gt;</td>\n",
       "      <td>&lt;RX_1&gt;</td>\n",
       "      <td>train</td>\n",
       "      <td>[0, 1]</td>\n",
       "    </tr>\n",
       "    <tr>\n",
       "      <th>1</th>\n",
       "      <td>&lt;rdkit.Chem.rdchem.Mol object at 0x7ff8c8c5c6d0&gt;</td>\n",
       "      <td>&lt;rdkit.Chem.rdchem.Mol object at 0x7ff8c57ebfb0&gt;</td>\n",
       "      <td>&lt;RX_1&gt;</td>\n",
       "      <td>train</td>\n",
       "      <td>[0, 1]</td>\n",
       "    </tr>\n",
       "    <tr>\n",
       "      <th>2</th>\n",
       "      <td>&lt;rdkit.Chem.rdchem.Mol object at 0x7ff8c8c5ca40&gt;</td>\n",
       "      <td>&lt;rdkit.Chem.rdchem.Mol object at 0x7ff8c57bc040&gt;</td>\n",
       "      <td>&lt;RX_6&gt;</td>\n",
       "      <td>train</td>\n",
       "      <td>[2]</td>\n",
       "    </tr>\n",
       "    <tr>\n",
       "      <th>3</th>\n",
       "      <td>&lt;rdkit.Chem.rdchem.Mol object at 0x7ff8c8c5c810&gt;</td>\n",
       "      <td>&lt;rdkit.Chem.rdchem.Mol object at 0x7ff8c5804090&gt;</td>\n",
       "      <td>&lt;RX_9&gt;</td>\n",
       "      <td>train</td>\n",
       "      <td>[3, 4]</td>\n",
       "    </tr>\n",
       "    <tr>\n",
       "      <th>4</th>\n",
       "      <td>&lt;rdkit.Chem.rdchem.Mol object at 0x7ff8c8c5c900&gt;</td>\n",
       "      <td>&lt;rdkit.Chem.rdchem.Mol object at 0x7ff8c5804090&gt;</td>\n",
       "      <td>&lt;RX_9&gt;</td>\n",
       "      <td>train</td>\n",
       "      <td>[3, 4]</td>\n",
       "    </tr>\n",
       "    <tr>\n",
       "      <th>...</th>\n",
       "      <td>...</td>\n",
       "      <td>...</td>\n",
       "      <td>...</td>\n",
       "      <td>...</td>\n",
       "      <td>...</td>\n",
       "    </tr>\n",
       "    <tr>\n",
       "      <th>85533</th>\n",
       "      <td>&lt;rdkit.Chem.rdchem.Mol object at 0x7ff8c57ebe20&gt;</td>\n",
       "      <td>&lt;rdkit.Chem.rdchem.Mol object at 0x7ff8c35210d0&gt;</td>\n",
       "      <td>&lt;RX_7&gt;</td>\n",
       "      <td>test</td>\n",
       "      <td>[85533]</td>\n",
       "    </tr>\n",
       "    <tr>\n",
       "      <th>85534</th>\n",
       "      <td>&lt;rdkit.Chem.rdchem.Mol object at 0x7ff8c57ebe70&gt;</td>\n",
       "      <td>&lt;rdkit.Chem.rdchem.Mol object at 0x7ff8c3369120&gt;</td>\n",
       "      <td>&lt;RX_10&gt;</td>\n",
       "      <td>test</td>\n",
       "      <td>[85534, 85535]</td>\n",
       "    </tr>\n",
       "    <tr>\n",
       "      <th>85535</th>\n",
       "      <td>&lt;rdkit.Chem.rdchem.Mol object at 0x7ff8c57ebec0&gt;</td>\n",
       "      <td>&lt;rdkit.Chem.rdchem.Mol object at 0x7ff8c3369120&gt;</td>\n",
       "      <td>&lt;RX_10&gt;</td>\n",
       "      <td>test</td>\n",
       "      <td>[85534, 85535]</td>\n",
       "    </tr>\n",
       "    <tr>\n",
       "      <th>85536</th>\n",
       "      <td>&lt;rdkit.Chem.rdchem.Mol object at 0x7ff8c578bf10&gt;</td>\n",
       "      <td>&lt;rdkit.Chem.rdchem.Mol object at 0x7ff8c33c1170&gt;</td>\n",
       "      <td>&lt;RX_1&gt;</td>\n",
       "      <td>test</td>\n",
       "      <td>[85536, 85537]</td>\n",
       "    </tr>\n",
       "    <tr>\n",
       "      <th>85537</th>\n",
       "      <td>&lt;rdkit.Chem.rdchem.Mol object at 0x7ff8c5823f60&gt;</td>\n",
       "      <td>&lt;rdkit.Chem.rdchem.Mol object at 0x7ff8c33c1170&gt;</td>\n",
       "      <td>&lt;RX_1&gt;</td>\n",
       "      <td>test</td>\n",
       "      <td>[85536, 85537]</td>\n",
       "    </tr>\n",
       "  </tbody>\n",
       "</table>\n",
       "<p>85538 rows × 5 columns</p>\n",
       "</div>"
      ],
      "text/plain": [
       "                                          reactants_mol  \\\n",
       "0      <rdkit.Chem.rdchem.Mol object at 0x7ff8c8c5c680>   \n",
       "1      <rdkit.Chem.rdchem.Mol object at 0x7ff8c8c5c6d0>   \n",
       "2      <rdkit.Chem.rdchem.Mol object at 0x7ff8c8c5ca40>   \n",
       "3      <rdkit.Chem.rdchem.Mol object at 0x7ff8c8c5c810>   \n",
       "4      <rdkit.Chem.rdchem.Mol object at 0x7ff8c8c5c900>   \n",
       "...                                                 ...   \n",
       "85533  <rdkit.Chem.rdchem.Mol object at 0x7ff8c57ebe20>   \n",
       "85534  <rdkit.Chem.rdchem.Mol object at 0x7ff8c57ebe70>   \n",
       "85535  <rdkit.Chem.rdchem.Mol object at 0x7ff8c57ebec0>   \n",
       "85536  <rdkit.Chem.rdchem.Mol object at 0x7ff8c578bf10>   \n",
       "85537  <rdkit.Chem.rdchem.Mol object at 0x7ff8c5823f60>   \n",
       "\n",
       "                                           products_mol reaction_type    set  \\\n",
       "0      <rdkit.Chem.rdchem.Mol object at 0x7ff8c57ebfb0>        <RX_1>  train   \n",
       "1      <rdkit.Chem.rdchem.Mol object at 0x7ff8c57ebfb0>        <RX_1>  train   \n",
       "2      <rdkit.Chem.rdchem.Mol object at 0x7ff8c57bc040>        <RX_6>  train   \n",
       "3      <rdkit.Chem.rdchem.Mol object at 0x7ff8c5804090>        <RX_9>  train   \n",
       "4      <rdkit.Chem.rdchem.Mol object at 0x7ff8c5804090>        <RX_9>  train   \n",
       "...                                                 ...           ...    ...   \n",
       "85533  <rdkit.Chem.rdchem.Mol object at 0x7ff8c35210d0>        <RX_7>   test   \n",
       "85534  <rdkit.Chem.rdchem.Mol object at 0x7ff8c3369120>       <RX_10>   test   \n",
       "85535  <rdkit.Chem.rdchem.Mol object at 0x7ff8c3369120>       <RX_10>   test   \n",
       "85536  <rdkit.Chem.rdchem.Mol object at 0x7ff8c33c1170>        <RX_1>   test   \n",
       "85537  <rdkit.Chem.rdchem.Mol object at 0x7ff8c33c1170>        <RX_1>   test   \n",
       "\n",
       "      exclude_indices  \n",
       "0              [0, 1]  \n",
       "1              [0, 1]  \n",
       "2                 [2]  \n",
       "3              [3, 4]  \n",
       "4              [3, 4]  \n",
       "...               ...  \n",
       "85533         [85533]  \n",
       "85534  [85534, 85535]  \n",
       "85535  [85534, 85535]  \n",
       "85536  [85536, 85537]  \n",
       "85537  [85536, 85537]  \n",
       "\n",
       "[85538 rows x 5 columns]"
      ]
     },
     "execution_count": 4,
     "metadata": {},
     "output_type": "execute_result"
    }
   ],
   "source": [
    "# load the dataset directly if saved before\n",
    "retrieval_df = pd.read_pickle('uspto_50_retrieval.pickle')\n",
    "retrieval_df"
   ]
  },
  {
   "cell_type": "code",
   "execution_count": 5,
   "metadata": {},
   "outputs": [
    {
     "data": {
      "image/png": "[encoded data removed]",
      "text/plain": [
       "<rdkit.Chem.rdchem.Mol at 0x7ff8c8c5c6d0>"
      ]
     },
     "execution_count": 5,
     "metadata": {},
     "output_type": "execute_result"
    }
   ],
   "source": [
    "mol = retrieval_df.iloc[1]['reactants_mol']\n",
    "# mol.GetNumAtoms(), mol.GetNumBonds()\n",
    "mol"
   ]
  },
  {
   "cell_type": "code",
   "execution_count": 6,
   "metadata": {},
   "outputs": [],
   "source": [
    "ATOM_LIST = list(range(1,119))\n",
    "CHIRALITY_LIST = [\n",
    "    Chem.rdchem.ChiralType.CHI_UNSPECIFIED,\n",
    "    Chem.rdchem.ChiralType.CHI_TETRAHEDRAL_CW,\n",
    "    Chem.rdchem.ChiralType.CHI_TETRAHEDRAL_CCW,\n",
    "    Chem.rdchem.ChiralType.CHI_OTHER\n",
    "]\n",
    "BOND_LIST = [\n",
    "    BT.SINGLE, \n",
    "    BT.DOUBLE, \n",
    "    BT.TRIPLE, \n",
    "    BT.AROMATIC\n",
    "]\n",
    "BONDDIR_LIST = [\n",
    "    Chem.rdchem.BondDir.NONE,\n",
    "    Chem.rdchem.BondDir.ENDUPRIGHT,\n",
    "    Chem.rdchem.BondDir.ENDDOWNRIGHT\n",
    "]"
   ]
  },
  {
   "cell_type": "code",
   "execution_count": 7,
   "metadata": {},
   "outputs": [],
   "source": [
    "class USPTO50_graph(Dataset):\n",
    "    def __init__(self, df, split: str='train'):\n",
    "        super(USPTO50_graph, self).__init__()\n",
    "        self.df = df[df['set']==split]\n",
    "\n",
    "    def create_graph(self, mol):\n",
    "        N = mol.GetNumAtoms()\n",
    "        M = mol.GetNumBonds()\n",
    "\n",
    "        type_idx = []\n",
    "        chirality_idx = []\n",
    "        atomic_number = []\n",
    "        # aromatic = []\n",
    "        # sp, sp2, sp3, sp3d = [], [], [], []\n",
    "        # num_hs = []\n",
    "        for atom in mol.GetAtoms():\n",
    "            type_idx.append(ATOM_LIST.index(atom.GetAtomicNum()))\n",
    "            chirality_idx.append(CHIRALITY_LIST.index(atom.GetChiralTag()))\n",
    "            atomic_number.append(atom.GetAtomicNum())\n",
    "            # aromatic.append(1 if atom.GetIsAromatic() else 0)\n",
    "            # hybridization = atom.GetHybridization()\n",
    "            # sp.append(1 if hybridization == HybridizationType.SP else 0)\n",
    "            # sp2.append(1 if hybridization == HybridizationType.SP2 else 0)\n",
    "            # sp3.append(1 if hybridization == HybridizationType.SP3 else 0)\n",
    "            # sp3d.append(1 if hybridization == HybridizationType.SP3D else 0)\n",
    "\n",
    "        # z = torch.tensor(atomic_number, dtype=torch.long)\n",
    "        x1 = torch.tensor(type_idx, dtype=torch.long).view(-1,1)\n",
    "        x2 = torch.tensor(chirality_idx, dtype=torch.long).view(-1,1)\n",
    "        x = torch.cat([x1, x2], dim=-1)\n",
    "        # x2 = torch.tensor([atomic_number, aromatic, sp, sp2, sp3, sp3d, num_hs],\n",
    "        #                     dtype=torch.float).t().contiguous()\n",
    "        # x = torch.cat([x1.to(torch.float), x2], dim=-1)\n",
    "\n",
    "        row, col, edge_feat = [], [], []\n",
    "        for bond in mol.GetBonds():\n",
    "            start, end = bond.GetBeginAtomIdx(), bond.GetEndAtomIdx()\n",
    "            row += [start, end]\n",
    "            col += [end, start]\n",
    "            # edge_type += 2 * [MOL_BONDS[bond.GetBondType()]]\n",
    "            edge_feat.append([\n",
    "                BOND_LIST.index(bond.GetBondType()),\n",
    "                BONDDIR_LIST.index(bond.GetBondDir())\n",
    "            ])\n",
    "            edge_feat.append([\n",
    "                BOND_LIST.index(bond.GetBondType()),\n",
    "                BONDDIR_LIST.index(bond.GetBondDir())\n",
    "            ])\n",
    "\n",
    "        edge_index = torch.tensor([row, col], dtype=torch.long)\n",
    "        edge_attr = torch.tensor(np.array(edge_feat), dtype=torch.long)\n",
    "\n",
    "        # edge_index --> graph connectivity\n",
    "        # edge_attr --> edge features\n",
    "        # x --> node features\n",
    "\n",
    "        data = Data(x=x, edge_index=edge_index, edge_attr=edge_attr)\n",
    "\n",
    "        return data\n",
    "    \n",
    "    def get(self, index):\n",
    "        reactant, product, reaction_type, _set, exclude_indices = self.df.iloc[index]\n",
    "        \n",
    "        anchor = product\n",
    "        positive_sample = reactant\n",
    "        \n",
    "        # randomly pick negative sample from the dataset apart from the exluded indices\n",
    "        # negative_sample_index = np.random.choice(list(set(range(len(self.df))) - set(exclude_indices)))\n",
    "        negative_sample_index = random.choice([i for i in range(self.len()) if i not in exclude_indices])\n",
    "        negative_sample = self.df.iloc[negative_sample_index]['reactants_mol']\n",
    "\n",
    "        # create graph for all three molecules\n",
    "        anchor_data = self.create_graph(anchor) # this is a tuple of edge_index, edge_attr, x\n",
    "        positive_sample_data = self.create_graph(positive_sample)\n",
    "        negative_sample_data = self.create_graph(negative_sample)\n",
    "\n",
    "        data = Data(anchor=anchor_data, positive_sample=positive_sample_data, negative_sample=negative_sample_data)\n",
    "        \n",
    "        return data\n",
    "        # return anchor, positive_sample, negative_sample # returns the graphs for all three molecules\n",
    "    \n",
    "    def len(self):\n",
    "        return len(self.df)"
   ]
  },
  {
   "cell_type": "code",
   "execution_count": 43,
   "metadata": {},
   "outputs": [
    {
     "data": {
      "text/plain": [
       "(Data(x=[41, 2], edge_index=[2, 92], edge_attr=[92, 2]),\n",
       " Data(x=[12, 2], edge_index=[2, 24], edge_attr=[24, 2]),\n",
       " Data(x=[24, 2], edge_index=[2, 54], edge_attr=[54, 2]))"
      ]
     },
     "execution_count": 43,
     "metadata": {},
     "output_type": "execute_result"
    }
   ],
   "source": [
    "retrieval_df = pd.read_pickle('uspto_50_retrieval.pickle')\n",
    "\n",
    "uspto_graph_retrieval_dataset = USPTO50_graph(retrieval_df, split='train')\n",
    "\n",
    "data = uspto_graph_retrieval_dataset[0]\n",
    "anchor = data.anchor\n",
    "positive_sample = data.positive_sample\n",
    "negative_sample = data.negative_sample\n",
    "\n",
    "anchor, positive_sample, negative_sample"
   ]
  },
  {
   "cell_type": "code",
   "execution_count": null,
   "metadata": {},
   "outputs": [],
   "source": [
    "train_dataloader = DataLoader(USPTO50_graph(retrieval_df, split='train'), batch_size=32, shuffle=True, num_workers=4)\n",
    "# val_dataloader = DataLoader(USPTO50_graph(retrieval_df, split='valid'), batch_size=32, shuffle=False, num_workers=4)\n",
    "# test_dataloader = DataLoader(USPTO50_graph(retrieval_df, split='test'), batch_size=32, shuffle=False, num_workers=4)"
   ]
  },
  {
   "cell_type": "code",
   "execution_count": 58,
   "metadata": {},
   "outputs": [],
   "source": [
    "from gcn_finetune import GCN"
   ]
  },
  {
   "cell_type": "code",
   "execution_count": 59,
   "metadata": {},
   "outputs": [],
   "source": [
    "gcn_model = GCN(feat_dim=512)\n",
    "state_dict = torch.load('ckpt/pretrainted_gcn_ckpt/model.pth')\n",
    "gcn_model.load_my_state_dict(state_dict)\n",
    "\n",
    "# h = gcn_model(anchor)\n",
    "# h, h.shape"
   ]
  },
  {
   "cell_type": "code",
   "execution_count": 63,
   "metadata": {},
   "outputs": [
    {
     "data": {
      "text/plain": [
       "(1.0000001192092896, 1.0, 5.378654805099359e-06, 2.967915179397096e-06)"
      ]
     },
     "execution_count": 63,
     "metadata": {},
     "output_type": "execute_result"
    }
   ],
   "source": [
    "h1 = gcn_model.forward(anchor)\n",
    "h2 = gcn_model.forward(positive_sample)\n",
    "h3 = gcn_model.forward(negative_sample)\n",
    "\n",
    "cos1 = F.cosine_similarity(h1, h2)\n",
    "cos2 = F.cosine_similarity(h1, h3)\n",
    "\n",
    "euc1 = torch.norm(h1 - h2, dim=-1)\n",
    "euc2 = torch.norm(h1 - h3, dim=-1)\n",
    "\n",
    "cos1.item(), cos2.item(), euc1.item(), euc2.item()"
   ]
  },
  {
   "cell_type": "code",
   "execution_count": 61,
   "metadata": {},
   "outputs": [
    {
     "data": {
      "text/plain": [
       "1.0"
      ]
     },
     "execution_count": 61,
     "metadata": {},
     "output_type": "execute_result"
    }
   ],
   "source": [
    "F.cosine_similarity(gcn_model.forward(uspto_graph_retrieval_dataset[0].anchor), gcn_model.forward(uspto_graph_retrieval_dataset[100].negative_sample)).item()"
   ]
  }
 ],
 "metadata": {
  "kernelspec": {
   "display_name": "retrosynthesis",
   "language": "python",
   "name": "python3"
  },
  "language_info": {
   "codemirror_mode": {
    "name": "ipython",
    "version": 3
   },
   "file_extension": ".py",
   "mimetype": "text/x-python",
   "name": "python",
   "nbconvert_exporter": "python",
   "pygments_lexer": "ipython3",
   "version": "3.11.5"
  }
 },
 "nbformat": 4,
 "nbformat_minor": 2
}
