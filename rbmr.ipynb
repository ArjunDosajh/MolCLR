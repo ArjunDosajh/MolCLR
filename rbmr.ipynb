{
 "cells": [
  {
   "cell_type": "code",
   "execution_count": 6,
   "metadata": {},
   "outputs": [],
   "source": [
    "from get_metrics import get_metrics\n",
    "from prettytable import PrettyTable"
   ]
  },
  {
   "cell_type": "code",
   "execution_count": 7,
   "metadata": {},
   "outputs": [],
   "source": [
    "dataset_path = 'dataset/uspto_50_retrieval.pickle'\n",
    "\n",
    "model_name_and_path = {\n",
    "    'Pretrained GCN': 'ckpt/pretrained_gcn/checkpoints/model.pth',\n",
    "    'Triplet Margin Finetuned': 'ckpt/TripletMarginCheckpoints/checkpoints/model.pth',\n",
    "    'Triplet Margin Cosine Distance Finetuned': 'ckpt/TripletMarginCosineDistanceCheckpoints/checkpoints/model.pth',\n",
    "    'Triplet Margin From Scratch': 'ckpt/TripletMarginFromScratchCheckpoints/checkpoints/model.pth',\n",
    "    'Random Weights': 'random_weights'\n",
    "}"
   ]
  },
  {
   "cell_type": "code",
   "execution_count": 9,
   "metadata": {},
   "outputs": [
    {
     "name": "stdout",
     "output_type": "stream",
     "text": [
      "Getting embeddings\n"
     ]
    },
    {
     "name": "stderr",
     "output_type": "stream",
     "text": [
      "100%|██████████| 268/268 [00:09<00:00, 28.50it/s]\n"
     ]
    },
    {
     "name": "stdout",
     "output_type": "stream",
     "text": [
      "Using faiss to retrieve indices\n"
     ]
    },
    {
     "name": "stderr",
     "output_type": "stream",
     "text": [
      "100%|██████████| 8563/8563 [00:01<00:00, 6533.14it/s]\n"
     ]
    },
    {
     "name": "stdout",
     "output_type": "stream",
     "text": [
      "Calculating metrics\n"
     ]
    },
    {
     "name": "stderr",
     "output_type": "stream",
     "text": [
      "100%|██████████| 8563/8563 [00:00<00:00, 9703.02it/s] \n"
     ]
    },
    {
     "name": "stdout",
     "output_type": "stream",
     "text": [
      "Getting embeddings\n"
     ]
    },
    {
     "name": "stderr",
     "output_type": "stream",
     "text": [
      "100%|██████████| 268/268 [00:09<00:00, 28.69it/s]\n"
     ]
    },
    {
     "name": "stdout",
     "output_type": "stream",
     "text": [
      "Using faiss to retrieve indices\n"
     ]
    },
    {
     "name": "stderr",
     "output_type": "stream",
     "text": [
      "100%|██████████| 8563/8563 [00:01<00:00, 6655.95it/s]\n"
     ]
    },
    {
     "name": "stdout",
     "output_type": "stream",
     "text": [
      "Calculating metrics\n"
     ]
    },
    {
     "name": "stderr",
     "output_type": "stream",
     "text": [
      "100%|██████████| 8563/8563 [00:00<00:00, 10514.04it/s]\n"
     ]
    },
    {
     "name": "stdout",
     "output_type": "stream",
     "text": [
      "Getting embeddings\n"
     ]
    },
    {
     "name": "stderr",
     "output_type": "stream",
     "text": [
      "100%|██████████| 268/268 [00:09<00:00, 28.06it/s]\n"
     ]
    },
    {
     "name": "stdout",
     "output_type": "stream",
     "text": [
      "Using faiss to retrieve indices\n"
     ]
    },
    {
     "name": "stderr",
     "output_type": "stream",
     "text": [
      "100%|██████████| 8563/8563 [00:01<00:00, 6033.72it/s]\n"
     ]
    },
    {
     "name": "stdout",
     "output_type": "stream",
     "text": [
      "Calculating metrics\n"
     ]
    },
    {
     "name": "stderr",
     "output_type": "stream",
     "text": [
      "100%|██████████| 8563/8563 [00:00<00:00, 9390.46it/s] \n"
     ]
    },
    {
     "name": "stdout",
     "output_type": "stream",
     "text": [
      "Getting embeddings\n"
     ]
    },
    {
     "name": "stderr",
     "output_type": "stream",
     "text": [
      "100%|██████████| 268/268 [00:09<00:00, 27.87it/s]\n"
     ]
    },
    {
     "name": "stdout",
     "output_type": "stream",
     "text": [
      "Using faiss to retrieve indices\n"
     ]
    },
    {
     "name": "stderr",
     "output_type": "stream",
     "text": [
      "100%|██████████| 8563/8563 [00:01<00:00, 6790.59it/s]\n"
     ]
    },
    {
     "name": "stdout",
     "output_type": "stream",
     "text": [
      "Calculating metrics\n"
     ]
    },
    {
     "name": "stderr",
     "output_type": "stream",
     "text": [
      "100%|██████████| 8563/8563 [00:00<00:00, 10509.37it/s]\n"
     ]
    },
    {
     "name": "stdout",
     "output_type": "stream",
     "text": [
      "Random weights are used\n",
      "Getting embeddings\n"
     ]
    },
    {
     "name": "stderr",
     "output_type": "stream",
     "text": [
      "100%|██████████| 268/268 [00:09<00:00, 28.58it/s]\n"
     ]
    },
    {
     "name": "stdout",
     "output_type": "stream",
     "text": [
      "Using faiss to retrieve indices\n"
     ]
    },
    {
     "name": "stderr",
     "output_type": "stream",
     "text": [
      "100%|██████████| 8563/8563 [00:01<00:00, 6013.11it/s]\n"
     ]
    },
    {
     "name": "stdout",
     "output_type": "stream",
     "text": [
      "Calculating metrics\n"
     ]
    },
    {
     "name": "stderr",
     "output_type": "stream",
     "text": [
      "100%|██████████| 8563/8563 [00:00<00:00, 9309.42it/s] \n"
     ]
    }
   ],
   "source": [
    "x = PrettyTable()\n",
    "x.field_names = ['Model', 'MAP', 'MHR', 'MRR']\n",
    "\n",
    "for model in model_name_and_path.keys():\n",
    "    map, mhr, mrr = get_metrics(model_name_and_path[model], dataset_path)\n",
    "    x.add_row([model, map, mhr, mrr])"
   ]
  },
  {
   "cell_type": "code",
   "execution_count": 10,
   "metadata": {},
   "outputs": [
    {
     "data": {
      "text/html": [
       "<table>\n",
       "    <thead>\n",
       "        <tr>\n",
       "            <th>Model</th>\n",
       "            <th>MAP</th>\n",
       "            <th>MHR</th>\n",
       "            <th>MRR</th>\n",
       "        </tr>\n",
       "    </thead>\n",
       "    <tbody>\n",
       "        <tr>\n",
       "            <td>Pretrained GCN</td>\n",
       "            <td>tensor(0.2903)</td>\n",
       "            <td>tensor(0.3499)</td>\n",
       "            <td>tensor(0.2903)</td>\n",
       "        </tr>\n",
       "        <tr>\n",
       "            <td>Triplet Margin Finetuned</td>\n",
       "            <td>tensor(0.7869)</td>\n",
       "            <td>tensor(0.8947)</td>\n",
       "            <td>tensor(0.7928)</td>\n",
       "        </tr>\n",
       "        <tr>\n",
       "            <td>Triplet Margin Cosine Distance Finetuned</td>\n",
       "            <td>tensor(0.7299)</td>\n",
       "            <td>tensor(0.8529)</td>\n",
       "            <td>tensor(0.7379)</td>\n",
       "        </tr>\n",
       "        <tr>\n",
       "            <td>Triplet Margin From Scratch</td>\n",
       "            <td>tensor(0.8267)</td>\n",
       "            <td>tensor(0.9215)</td>\n",
       "            <td>tensor(0.8327)</td>\n",
       "        </tr>\n",
       "        <tr>\n",
       "            <td>Random Weights</td>\n",
       "            <td>tensor(0.0464)</td>\n",
       "            <td>tensor(0.0663)</td>\n",
       "            <td>tensor(0.0464)</td>\n",
       "        </tr>\n",
       "    </tbody>\n",
       "</table>"
      ],
      "text/plain": [
       "+------------------------------------------+----------------+----------------+----------------+\n",
       "|                  Model                   |      MAP       |      MHR       |      MRR       |\n",
       "+------------------------------------------+----------------+----------------+----------------+\n",
       "|              Pretrained GCN              | tensor(0.2903) | tensor(0.3499) | tensor(0.2903) |\n",
       "|         Triplet Margin Finetuned         | tensor(0.7869) | tensor(0.8947) | tensor(0.7928) |\n",
       "| Triplet Margin Cosine Distance Finetuned | tensor(0.7299) | tensor(0.8529) | tensor(0.7379) |\n",
       "|       Triplet Margin From Scratch        | tensor(0.8267) | tensor(0.9215) | tensor(0.8327) |\n",
       "|              Random Weights              | tensor(0.0464) | tensor(0.0663) | tensor(0.0464) |\n",
       "+------------------------------------------+----------------+----------------+----------------+"
      ]
     },
     "execution_count": 10,
     "metadata": {},
     "output_type": "execute_result"
    }
   ],
   "source": [
    "x"
   ]
  }
 ],
 "metadata": {
  "kernelspec": {
   "display_name": "retrosynthesis",
   "language": "python",
   "name": "python3"
  },
  "language_info": {
   "codemirror_mode": {
    "name": "ipython",
    "version": 3
   },
   "file_extension": ".py",
   "mimetype": "text/x-python",
   "name": "python",
   "nbconvert_exporter": "python",
   "pygments_lexer": "ipython3",
   "version": "3.1.0"
  }
 },
 "nbformat": 4,
 "nbformat_minor": 2
}
